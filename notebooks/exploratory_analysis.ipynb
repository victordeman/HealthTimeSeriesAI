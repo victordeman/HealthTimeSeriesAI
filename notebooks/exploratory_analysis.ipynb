{
 "cells": [
  {
   "cell_type": "markdown",
   "metadata": {},
   "source": [
    "# Exploratory Data Analysis for HealthTimeSeriesAI\n",
    "\n",
    "This notebook performs exploratory data analysis on the time series dataset (`data/raw/sample_dataset.csv`) to understand its structure, visualize patterns, and identify characteristics like sparsity or class imbalance."
   ]
  },
  {
   "cell_type": "code",
   "execution_count": null,
   "metadata": {},
   "outputs": [],
   "source": [
    "import pandas as pd\n",
    "import numpy as np\n",
    "import matplotlib.pyplot as plt\n",
    "import seaborn as sns\n",
    "\n",
    "%matplotlib inline"
   ]
  },
  {
   "cell_type": "markdown",
   "metadata": {},
   "source": [
    "## Load Dataset\n",
    "Load the sample time series dataset with 187 time steps and a binary label."
   ]
  },
  {
   "cell_type": "code",
   "execution_count": null,
   "metadata": {},
   "outputs": [],
   "source": [
    "df = pd.read_csv('../data/raw/sample_dataset.csv')\n",
    "feature_cols = [str(i) for i in range(1, 188)]\n",
    "label_col = 'Label'\n",
    "\n",
    "print('Dataset Shape:', df.shape)\n",
    "print('First few rows:')\n",
    "df.head()"
   ]
  },
  {
   "cell_type": "markdown",
   "metadata": {},
   "source": [
    "## Basic Statistics\n",
    "Compute summary statistics for the features and check for missing values."
   ]
  },
  {
   "cell_type": "code",
   "execution_count": null,
   "metadata": {},
   "outputs": [],
   "source": [
    "print('Summary Statistics:')\n",
    "print(df[feature_cols].describe())\n",
    "\n",
    "print('\\nMissing Values:')\n",
    "print(df.isnull().sum().sum())"
   ]
  },
  {
   "cell_type": "markdown",
   "metadata": {},
   "source": [
    "## Class Distribution\n",
    "Analyze the distribution of the binary labels to check for class imbalance."
   ]
  },
  {
   "cell_type": "code",
   "execution_count": null,
   "metadata": {},
   "outputs": [],
   "source": [
    "plt.figure(figsize=(6, 4))\n",
    "sns.countplot(x=label_col, data=df)\n",
    "plt.title('Class Distribution')\n",
    "plt.xlabel('Label')\n",
    "plt.ylabel('Count')\n",
    "plt.savefig('class_distribution.png')\n",
    "plt.show()\n",
    "\n",
    "print('Class Distribution:')\n",
    "print(df[label_col].value_counts())"
   ]
  },
  {
   "cell_type": "markdown",
   "metadata": {},
   "source": [
    "## Visualize Time Series\n",
    "Plot a few time series sequences to understand their patterns."
   ]
  },
  {
   "cell_type": "code",
   "execution_count": null,
   "metadata": {},
   "outputs": [],
   "source": [
    "plt.figure(figsize=(12, 6))\n",
    "for idx in range(min(3, len(df))):  # Plot up to 3 sequences\n",
    "    plt.plot(feature_cols, df[feature_cols].iloc[idx], label=f'Sample {idx+1} (Label: {df[label_col].iloc[idx]})')\n",
    "plt.title('Sample Time Series Sequences')\n",
    "plt.xlabel('Time Step')\n",
    "plt.ylabel('Value')\n",
    "plt.legend()\n",
    "plt.savefig('time_series_samples.png')\n",
    "plt.show()"
   ]
  },
  {
   "cell_type": "markdown",
   "metadata": {},
   "source": [
    "## Sparsity Analysis\n",
    "Check for sparsity (zero or near-zero values) in the time series."
   ]
  },
  {
   "cell_type": "code",
   "execution_count": null,
   "metadata": {},
   "outputs": [],
   "source": [
    "sparsity = (df[feature_cols] == 0).mean()\n",
    "plt.figure(figsize=(12, 4))\n",
    "plt.plot(feature_cols, sparsity)\n",
    "plt.title('Sparsity Across Time Steps')\n",
    "plt.xlabel('Time Step')\n",
    "plt.ylabel('Proportion of Zero Values')\n",
    "plt.savefig('sparsity_analysis.png')\n",
    "plt.show()\n",
    "\n",
    "print('Average Sparsity:', sparsity.mean())"
   ]
  },
  {
   "cell_type": "markdown",
   "metadata": {},
   "source": [
    "## Correlation Analysis\n",
    "Examine correlations between time steps to identify temporal dependencies."
   ]
  },
  {
   "cell_type": "code",
   "execution_count": null,
   "metadata": {},
   "outputs": [],
   "source": [
    "correlation_matrix = df[feature_cols].corr()\n",
    "plt.figure(figsize=(10, 8))\n",
    "sns.heatmap(correlation_matrix, cmap='coolwarm', vmin=-1, vmax=1)\n",
    "plt.title('Correlation Matrix of Time Steps')\n",
    "plt.savefig('correlation_matrix.png')\n",
    "plt.show()"
   ]
  }
 ],
 "metadata": {
  "kernelspec": {
   "display_name": "Python 3",
   "language": "python",
   "name": "python3"
  },
  "language_info": {
   "codemirror_mode": {
    "name": "ipython",
    "version": 3
   },
   "file_extension": ".py",
   "mimetype": "text/x-python",
   "name": "python",
   "nbconvert_exporter": "python",
   "pygments_lexer": "ipython3",
   "version": "3.8.10"
  }
 },
 "nbformat": 4,
 "nbformat_minor": 4
}
